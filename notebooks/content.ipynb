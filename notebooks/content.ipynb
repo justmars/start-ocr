{
 "cells": [
  {
   "cell_type": "code",
   "execution_count": 1,
   "metadata": {},
   "outputs": [],
   "source": [
    "from pathlib import Path\n",
    "\n",
    "import cv2\n",
    "import numpy as np\n",
    "import pdfplumber\n",
    "from rich import print\n",
    "from start_ocr import (\n",
    "    Collection,\n",
    "    Content,\n",
    "    CoordinatedImage,\n",
    "    get_page_and_img,\n",
    "    get_page_end,\n",
    "    page_width_lines,\n",
    ")\n",
    "from start_ocr.slice import get_contours"
   ]
  },
  {
   "cell_type": "code",
   "execution_count": 2,
   "metadata": {},
   "outputs": [],
   "source": [
    "res = %pwd # type: ignore\n",
    "\n",
    "p1 = Path(res).joinpath(\"tests/data/lorem_ipsum.pdf\")\n",
    "p2 = Path(res).joinpath(\"raw/opinion.pdf\")\n",
    "p3 = Path(res).joinpath(\"raw/13789.pdf\")\n",
    "p4 = Path(res).joinpath(\"raw/262686.pdf\")\n",
    "p5 = Path(res).joinpath(\"raw/235569.pdf\")"
   ]
  },
  {
   "cell_type": "code",
   "execution_count": 3,
   "metadata": {},
   "outputs": [],
   "source": [
    "page, im = get_page_and_img(p5, 1)"
   ]
  },
  {
   "cell_type": "code",
   "execution_count": 4,
   "metadata": {},
   "outputs": [],
   "source": [
    "page1 = Collection.preliminary_page(p5)"
   ]
  },
  {
   "cell_type": "code",
   "execution_count": 5,
   "metadata": {},
   "outputs": [],
   "source": [
    "collected = Collection.make(p5, page1)"
   ]
  },
  {
   "cell_type": "code",
   "execution_count": 10,
   "metadata": {},
   "outputs": [
    {
     "data": {
      "text/plain": [
       "[Bodyline(page_num=2, order_num=1, line=\"Arbiter) may exercise jurisdiction.  The charge constitutes  an unfair labor practice on the part of the employer, being in the nature of interference  as it curtails  the  employees'  right to  self-organization.  Hence,  it is  the  Labor Arbiter who has jurisdiction to settle the controversy.\"),\n",
       " Bodyline(page_num=2, order_num=2, line='This is a Petition foi, Review on Certiorari1 assailing the January 31, 201 72 Decision and November 9, 201 73 Resolution of the Court of Appeals (CA)  in CA-G.R.  SP No.  128607.  The  CA upheld the jurisdiction of the Med-Arbiter over a case involving the nonremittance by the  employer of union dues to the exclusive bargaining representative.'),\n",
       " Bodyline(page_num=2, order_num=3, line='The Antecedents'),\n",
       " Bodyline(page_num=2, order_num=4, line='On  August  16,  2010,  Makar  Port  Labor  Organization  (MPLO), through its President Mario Marigon (Marigon ), filed a \"Petition\"4 for unfair labor practice (ULP) against South Cotabato Integrated Port Services, Inc. (SCIPSJ)  before  the  Department  of  Labor  and  Employment  (DOLE) Regional Office No. 12 in Koronadal City, South Cotabato. MPLO was the exclusive bargaining agent of the rank-and-file employees of SCIPSI from October 12, 1999 until February 2007.5'),\n",
       " Bodyline(page_num=2, order_num=5, line='Marigon alleged that SCIPSI used to collect monthly dues from the members  of MPLO through  salary  deduction,  and remit the  same to  the union. However, from August 2006 to February 2007, SCIPSI withheld the collections despite demands from MPLO and the clarification issued by the DOLE Regional Director.6 He maintained that by illegally withholding the amounts collected from  the union members,  SCIPSI committed a form  of 7 harassment against MPLO and had interfered in the affairs  of the union. Consequently, Marigon prayed that SCIPSI be ordered to release the amount it collected from MPLO members from August 2006 to February 2007.8'),\n",
       " Bodyline(page_num=2, order_num=6, line='SCIPSI  countered  that  since  Marigon  was  dismissed  from employment on December 5, 2007, he had no legal capacity to sue on behalf of MPLO, and demand remittance of the union dues collected from August')]"
      ]
     },
     "execution_count": 10,
     "metadata": {},
     "output_type": "execute_result"
    }
   ],
   "source": [
    "collected.pages[1].segments"
   ]
  },
  {
   "cell_type": "code",
   "execution_count": 11,
   "metadata": {},
   "outputs": [
    {
     "data": {
      "text/plain": [
       "[Footnote(page_num=2, fn_id=4, note='CA rollo, pp. 39-42, docketed as Case No. RO 12-SG-IN-001-16-08-10. \\n          Id. at 96.'),\n",
       " Footnote(page_num=2, fn_id=6, note='Id. at 39-41.'),\n",
       " Footnote(page_num=2, fn_id=7, note='Id. at 97.                                                  \\n          Id. at 98.')]"
      ]
     },
     "execution_count": 11,
     "metadata": {},
     "output_type": "execute_result"
    }
   ],
   "source": [
    "collected.pages[1].footnotes"
   ]
  }
 ],
 "metadata": {
  "kernelspec": {
   "display_name": ".venv",
   "language": "python",
   "name": "python3"
  },
  "language_info": {
   "codemirror_mode": {
    "name": "ipython",
    "version": 3
   },
   "file_extension": ".py",
   "mimetype": "text/x-python",
   "name": "python",
   "nbconvert_exporter": "python",
   "pygments_lexer": "ipython3",
   "version": "3.12.1"
  },
  "orig_nbformat": 4
 },
 "nbformat": 4,
 "nbformat_minor": 2
}
