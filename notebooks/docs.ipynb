{
 "cells": [
  {
   "cell_type": "code",
   "execution_count": null,
   "metadata": {},
   "outputs": [],
   "source": [
    "res = %pwd\n",
    "res"
   ]
  },
  {
   "cell_type": "code",
   "execution_count": null,
   "metadata": {},
   "outputs": [],
   "source": [
    "from pathlib import Path\n",
    "\n",
    "import cv2\n",
    "from start_ocr import get_contours, get_page_and_img, show_contours\n",
    "from start_ocr.coordinates import CoordinatedImage\n",
    "\n",
    "p = Path(res).joinpath(\"tests/data/test.pdf\")\n",
    "p.exists()"
   ]
  },
  {
   "cell_type": "code",
   "execution_count": null,
   "metadata": {},
   "outputs": [],
   "source": [
    "page, img = get_page_and_img(pdfpath=p, index=0)"
   ]
  },
  {
   "cell_type": "code",
   "execution_count": null,
   "metadata": {},
   "outputs": [],
   "source": [
    "page, img = get_page_and_img(pdfpath=p, index=0)\n",
    "_, im_w, _ = img.shape\n",
    "contours = get_contours(\n",
    "    img, (50, 10), test_dilation=True, test_dilated_image=\"temp/dilated.png\"\n",
    ")\n",
    "results = []\n",
    "for c in contours:\n",
    "    x, y, w, h = cv2.boundingRect(c)\n",
    "    if all([x < (im_w / 2), (x + w) < (im_w / 2), (im_w / 2) > w > 400, h < 44]):\n",
    "        obj = CoordinatedImage(img, x, y, w, h)\n",
    "        obj.greenbox()\n",
    "        results.append(obj)\n",
    "cv2.imwrite(\"temp/boxes.png\", img)"
   ]
  },
  {
   "cell_type": "code",
   "execution_count": null,
   "metadata": {},
   "outputs": [],
   "source": [
    "len(results)"
   ]
  },
  {
   "cell_type": "code",
   "execution_count": null,
   "metadata": {},
   "outputs": [],
   "source": [
    "imgs = []\n",
    "page, img = get_page_and_img(pdfpath=p, index=0)\n",
    "contours = get_contours(img, (10, 10), test_dilation=True)\n",
    "_, im_w, _ = img.shape\n",
    "for cnt in contours:\n",
    "    x, y, w, h = cv2.boundingRect(cnt)  # unpack each contour\n",
    "    filtering_criteria = [\n",
    "        w > im_w / 2,  # width greater than half\n",
    "        x < im_w / 3,  # edge of line on first third\n",
    "        (x + w) > im_w * (2 / 3),  # edge of line on last third\n",
    "    ]\n",
    "    if all(filtering_criteria):\n",
    "        obj = CoordinatedImage(img, x, y, w, h)\n",
    "        obj.greenbox()  # will add to the img's boxes\n",
    "        imgs.append(obj)\n",
    "cv2.imwrite(\"temp/boxes.png\", img)"
   ]
  },
  {
   "cell_type": "code",
   "execution_count": null,
   "metadata": {},
   "outputs": [],
   "source": [
    "len(imgs)"
   ]
  }
 ],
 "metadata": {
  "kernelspec": {
   "display_name": ".venv",
   "language": "python",
   "name": "python3"
  },
  "language_info": {
   "codemirror_mode": {
    "name": "ipython",
    "version": 3
   },
   "file_extension": ".py",
   "mimetype": "text/x-python",
   "name": "python",
   "nbconvert_exporter": "python",
   "pygments_lexer": "ipython3",
   "version": "3.12.1"
  },
  "orig_nbformat": 4
 },
 "nbformat": 4,
 "nbformat_minor": 2
}
